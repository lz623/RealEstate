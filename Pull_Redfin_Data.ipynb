{
 "cells": [
  {
   "cell_type": "markdown",
   "metadata": {},
   "source": [
    "## Zip Code"
   ]
  },
  {
   "cell_type": "code",
   "execution_count": 31,
   "metadata": {},
   "outputs": [],
   "source": [
    "import mywebdriver as webdriver\n",
    "import mywebdriver\n",
    "import pandas as pd\n"
   ]
  },
  {
   "cell_type": "markdown",
   "metadata": {},
   "source": [
    "### Price by zipcode"
   ]
  },
  {
   "cell_type": "code",
   "execution_count": 32,
   "metadata": {},
   "outputs": [],
   "source": [
    "url = 'https://www.zip-codes.com/state/tx.asp'\n",
    "soup = webdriver.get_soup(url, driver_type='selenium')"
   ]
  },
  {
   "cell_type": "code",
   "execution_count": 33,
   "metadata": {},
   "outputs": [],
   "source": [
    "links = soup.select('table.statTable>tbody>tr>td:nth-of-type(2)>a')"
   ]
  },
  {
   "cell_type": "code",
   "execution_count": 34,
   "metadata": {},
   "outputs": [],
   "source": [
    "links = soup.select('table.statTable>tbody>tr>td:first-of-type>a')\n",
    "zipcode_tx = [link.text.split()[-1] for link in links]\n",
    "links = soup.select('table.statTable>tbody>tr>td:nth-of-type(2)>a')\n",
    "city_tx = [link.text.split()[-1] for link in links]\n",
    "links = soup.select('table.statTable>tbody>tr>td:nth-of-type(3)>a')\n",
    "county_tx = [link.text.split()[-1] for link in links]\n",
    "links = soup.select('table.statTable>tbody>tr>td:nth-of-type(4)')\n",
    "ziptype = [link.text.split()[-1] for link in links]\n",
    "ziptype =  ziptype[1:]\n",
    "dic_data = {'zipcode': zipcode_tx, 'city': city_tx, 'county': county_tx, 'ziptype': ziptype}"
   ]
  },
  {
   "cell_type": "code",
   "execution_count": 35,
   "metadata": {},
   "outputs": [],
   "source": [
    "df_zip = pd.DataFrame(dic_data, columns=['zipcode', 'city', 'county', 'ziptype'])\n",
    "df_zip.to_csv('./data/zipcode_tx.csv', index=False)\n",
    "df_zip.ziptype.unique()\n",
    "df_zip = df_zip[df_zip.ziptype=='Standard']"
   ]
  },
  {
   "cell_type": "markdown",
   "metadata": {},
   "source": [
    "### Redfin data by zip code"
   ]
  },
  {
   "cell_type": "code",
   "execution_count": 36,
   "metadata": {},
   "outputs": [
    {
     "data": {
      "text/plain": [
       "(175, 4)"
      ]
     },
     "execution_count": 36,
     "metadata": {},
     "output_type": "execute_result"
    }
   ],
   "source": [
    "import sys\n",
    "sys.path.append('./')\n",
    "hou_counties = ['Harris', 'Bend', 'Montgomery', 'Walker']\n",
    "df_zip_hou = df_zip[df_zip.county.isin(hou_counties)]\n",
    "df_zip_hou.shape\n"
   ]
  },
  {
   "cell_type": "code",
   "execution_count": 37,
   "metadata": {},
   "outputs": [
    {
     "name": "stdout",
     "output_type": "stream",
     "text": [
      "     zipcode       city  county   ziptype\n",
      "1026   77002    Houston  Harris  Standard\n",
      "1027   77003    Houston  Harris  Standard\n",
      "1028   77004    Houston  Harris  Standard\n",
      "1029   77005    Houston  Harris  Standard\n",
      "1030   77006    Houston  Harris  Standard\n",
      "...      ...        ...     ...       ...\n",
      "1403   77562  Highlands  Harris  Standard\n",
      "1409   77571      Porte  Harris  Standard\n",
      "1422   77586   Seabrook  Harris  Standard\n",
      "1423   77587    Houston  Harris  Standard\n",
      "1429   77598    Webster  Harris  Standard\n",
      "\n",
      "[175 rows x 4 columns]\n"
     ]
    }
   ],
   "source": [
    "print (df_zip_hou)"
   ]
  },
  {
   "cell_type": "code",
   "execution_count": 38,
   "metadata": {},
   "outputs": [],
   "source": [
    "\n",
    "import mywebdriver\n",
    "from selenium import webdriver\n",
    "from bs4 import BeautifulSoup\n",
    "from selenium.webdriver.chrome.options import Options\n",
    "from random import random\n",
    "import traceback\n",
    "import time"
   ]
  },
  {
   "cell_type": "code",
   "execution_count": 39,
   "metadata": {},
   "outputs": [],
   "source": [
    "# TEST\n",
    "zipcode = '77007'\n",
    "url_redfin = f'https://www.redfin.com/zipcode/{zipcode}/housing-market'"
   ]
  },
  {
   "cell_type": "code",
   "execution_count": 52,
   "metadata": {},
   "outputs": [
    {
     "name": "stderr",
     "output_type": "stream",
     "text": [
      "/var/folders/vm/fww8xl5j1wndbwkk7qhwtlfr0000gn/T/ipykernel_51202/340231036.py:4: DeprecationWarning: use options instead of chrome_options\n",
      "  driver = webdriver.Chrome(chrome_options=chrome_options)\n"
     ]
    }
   ],
   "source": [
    "chrome_options = Options()\n",
    "chrome_options.add_argument(\"--window-size=2400,1080\")\n",
    "chrome_options.add_argument(\"--silent\") # open without popup\n",
    "driver = webdriver.Chrome(chrome_options=chrome_options)\n",
    "driver.get(url_redfin)"
   ]
  },
  {
   "cell_type": "code",
   "execution_count": 56,
   "metadata": {},
   "outputs": [
    {
     "name": "stdout",
     "output_type": "stream",
     "text": [
      "490000\n"
     ]
    }
   ],
   "source": [
    "\n",
    "soup_zip = BeautifulSoup(driver.page_source, 'html.parser')\n",
    "# median price, # of home sold, median DOM, score, \n",
    "soup_price = soup_zip.select('.metricSummary .value')[0]\n",
    "print(soup_price.text.replace('$','').replace(',',''))\n"
   ]
  },
  {
   "cell_type": "code",
   "execution_count": 41,
   "metadata": {},
   "outputs": [
    {
     "ename": "NoSuchElementException",
     "evalue": "Message: no such element: Unable to locate element: {\"method\":\"css selector\",\"selector\":\"div[data-react-server-root-id=\"19\"] .ModeToggler.graphTabs button:first-of-type\"}\n  (Session info: chrome=108.0.5359.124)\nStacktrace:\n0   chromedriver                        0x0000000100844f38 chromedriver + 4910904\n1   chromedriver                        0x00000001007c4a03 chromedriver + 4385283\n2   chromedriver                        0x0000000100409747 chromedriver + 472903\n3   chromedriver                        0x000000010044e34c chromedriver + 754508\n4   chromedriver                        0x000000010044e5a1 chromedriver + 755105\n5   chromedriver                        0x0000000100491e94 chromedriver + 1031828\n6   chromedriver                        0x000000010047413d chromedriver + 909629\n7   chromedriver                        0x000000010048f28e chromedriver + 1020558\n8   chromedriver                        0x0000000100473ee3 chromedriver + 909027\n9   chromedriver                        0x000000010043e30c chromedriver + 688908\n10  chromedriver                        0x000000010043f88e chromedriver + 694414\n11  chromedriver                        0x00000001008121de chromedriver + 4702686\n12  chromedriver                        0x0000000100816b19 chromedriver + 4721433\n13  chromedriver                        0x000000010081e28e chromedriver + 4752014\n14  chromedriver                        0x000000010081791a chromedriver + 4725018\n15  chromedriver                        0x00000001007ebb02 chromedriver + 4545282\n16  chromedriver                        0x0000000100836888 chromedriver + 4851848\n17  chromedriver                        0x0000000100836a05 chromedriver + 4852229\n18  chromedriver                        0x000000010084ce5f chromedriver + 4943455\n19  libsystem_pthread.dylib             0x00007ff817679514 _pthread_start + 125\n20  libsystem_pthread.dylib             0x00007ff81767502f thread_start + 15\n",
     "output_type": "error",
     "traceback": [
      "\u001b[0;31m---------------------------------------------------------------------------\u001b[0m",
      "\u001b[0;31mNoSuchElementException\u001b[0m                    Traceback (most recent call last)",
      "Cell \u001b[0;32mIn[41], line 2\u001b[0m\n\u001b[1;32m      1\u001b[0m \u001b[39mfrom\u001b[39;00m \u001b[39mselenium\u001b[39;00m\u001b[39m.\u001b[39;00m\u001b[39mwebdriver\u001b[39;00m\u001b[39m.\u001b[39;00m\u001b[39mcommon\u001b[39;00m\u001b[39m.\u001b[39;00m\u001b[39mby\u001b[39;00m \u001b[39mimport\u001b[39;00m By\n\u001b[0;32m----> 2\u001b[0m driver\u001b[39m.\u001b[39;49mfind_element(By\u001b[39m.\u001b[39;49mCSS_SELECTOR,\u001b[39m'\u001b[39;49m\u001b[39mdiv[data-react-server-root-id=\u001b[39;49m\u001b[39m\"\u001b[39;49m\u001b[39m19\u001b[39;49m\u001b[39m\"\u001b[39;49m\u001b[39m] .ModeToggler.graphTabs button:first-of-type\u001b[39;49m\u001b[39m'\u001b[39;49m)\u001b[39m.\u001b[39mclick()\n\u001b[1;32m      3\u001b[0m svg \u001b[39m=\u001b[39m driver\u001b[39m.\u001b[39mfind_element(By\u001b[39m.\u001b[39mCSS_SELECTOR,\u001b[39m'\u001b[39m\u001b[39mdiv[data-react-server-root-id=\u001b[39m\u001b[39m\"\u001b[39m\u001b[39m19\u001b[39m\u001b[39m\"\u001b[39m\u001b[39m] .lineGraph .VictoryContainer>svg\u001b[39m\u001b[39m'\u001b[39m)\n\u001b[1;32m      4\u001b[0m svg \u001b[39m=\u001b[39m svg\u001b[39m.\u001b[39mget_attribute(\u001b[39m'\u001b[39m\u001b[39mouterHTML\u001b[39m\u001b[39m'\u001b[39m)\n",
      "File \u001b[0;32m/opt/homebrew/lib/python3.10/site-packages/selenium/webdriver/remote/webdriver.py:861\u001b[0m, in \u001b[0;36mWebDriver.find_element\u001b[0;34m(self, by, value)\u001b[0m\n\u001b[1;32m    858\u001b[0m     by \u001b[39m=\u001b[39m By\u001b[39m.\u001b[39mCSS_SELECTOR\n\u001b[1;32m    859\u001b[0m     value \u001b[39m=\u001b[39m \u001b[39m'\u001b[39m\u001b[39m[name=\u001b[39m\u001b[39m\"\u001b[39m\u001b[39m%s\u001b[39;00m\u001b[39m\"\u001b[39m\u001b[39m]\u001b[39m\u001b[39m'\u001b[39m \u001b[39m%\u001b[39m value\n\u001b[0;32m--> 861\u001b[0m \u001b[39mreturn\u001b[39;00m \u001b[39mself\u001b[39;49m\u001b[39m.\u001b[39;49mexecute(Command\u001b[39m.\u001b[39;49mFIND_ELEMENT, {\u001b[39m\"\u001b[39;49m\u001b[39musing\u001b[39;49m\u001b[39m\"\u001b[39;49m: by, \u001b[39m\"\u001b[39;49m\u001b[39mvalue\u001b[39;49m\u001b[39m\"\u001b[39;49m: value})[\u001b[39m\"\u001b[39m\u001b[39mvalue\u001b[39m\u001b[39m\"\u001b[39m]\n",
      "File \u001b[0;32m/opt/homebrew/lib/python3.10/site-packages/selenium/webdriver/remote/webdriver.py:444\u001b[0m, in \u001b[0;36mWebDriver.execute\u001b[0;34m(self, driver_command, params)\u001b[0m\n\u001b[1;32m    442\u001b[0m response \u001b[39m=\u001b[39m \u001b[39mself\u001b[39m\u001b[39m.\u001b[39mcommand_executor\u001b[39m.\u001b[39mexecute(driver_command, params)\n\u001b[1;32m    443\u001b[0m \u001b[39mif\u001b[39;00m response:\n\u001b[0;32m--> 444\u001b[0m     \u001b[39mself\u001b[39;49m\u001b[39m.\u001b[39;49merror_handler\u001b[39m.\u001b[39;49mcheck_response(response)\n\u001b[1;32m    445\u001b[0m     response[\u001b[39m\"\u001b[39m\u001b[39mvalue\u001b[39m\u001b[39m\"\u001b[39m] \u001b[39m=\u001b[39m \u001b[39mself\u001b[39m\u001b[39m.\u001b[39m_unwrap_value(response\u001b[39m.\u001b[39mget(\u001b[39m\"\u001b[39m\u001b[39mvalue\u001b[39m\u001b[39m\"\u001b[39m, \u001b[39mNone\u001b[39;00m))\n\u001b[1;32m    446\u001b[0m     \u001b[39mreturn\u001b[39;00m response\n",
      "File \u001b[0;32m/opt/homebrew/lib/python3.10/site-packages/selenium/webdriver/remote/errorhandler.py:249\u001b[0m, in \u001b[0;36mErrorHandler.check_response\u001b[0;34m(self, response)\u001b[0m\n\u001b[1;32m    247\u001b[0m         alert_text \u001b[39m=\u001b[39m value[\u001b[39m\"\u001b[39m\u001b[39malert\u001b[39m\u001b[39m\"\u001b[39m]\u001b[39m.\u001b[39mget(\u001b[39m\"\u001b[39m\u001b[39mtext\u001b[39m\u001b[39m\"\u001b[39m)\n\u001b[1;32m    248\u001b[0m     \u001b[39mraise\u001b[39;00m exception_class(message, screen, stacktrace, alert_text)  \u001b[39m# type: ignore[call-arg]  # mypy is not smart enough here\u001b[39;00m\n\u001b[0;32m--> 249\u001b[0m \u001b[39mraise\u001b[39;00m exception_class(message, screen, stacktrace)\n",
      "\u001b[0;31mNoSuchElementException\u001b[0m: Message: no such element: Unable to locate element: {\"method\":\"css selector\",\"selector\":\"div[data-react-server-root-id=\"19\"] .ModeToggler.graphTabs button:first-of-type\"}\n  (Session info: chrome=108.0.5359.124)\nStacktrace:\n0   chromedriver                        0x0000000100844f38 chromedriver + 4910904\n1   chromedriver                        0x00000001007c4a03 chromedriver + 4385283\n2   chromedriver                        0x0000000100409747 chromedriver + 472903\n3   chromedriver                        0x000000010044e34c chromedriver + 754508\n4   chromedriver                        0x000000010044e5a1 chromedriver + 755105\n5   chromedriver                        0x0000000100491e94 chromedriver + 1031828\n6   chromedriver                        0x000000010047413d chromedriver + 909629\n7   chromedriver                        0x000000010048f28e chromedriver + 1020558\n8   chromedriver                        0x0000000100473ee3 chromedriver + 909027\n9   chromedriver                        0x000000010043e30c chromedriver + 688908\n10  chromedriver                        0x000000010043f88e chromedriver + 694414\n11  chromedriver                        0x00000001008121de chromedriver + 4702686\n12  chromedriver                        0x0000000100816b19 chromedriver + 4721433\n13  chromedriver                        0x000000010081e28e chromedriver + 4752014\n14  chromedriver                        0x000000010081791a chromedriver + 4725018\n15  chromedriver                        0x00000001007ebb02 chromedriver + 4545282\n16  chromedriver                        0x0000000100836888 chromedriver + 4851848\n17  chromedriver                        0x0000000100836a05 chromedriver + 4852229\n18  chromedriver                        0x000000010084ce5f chromedriver + 4943455\n19  libsystem_pthread.dylib             0x00007ff817679514 _pthread_start + 125\n20  libsystem_pthread.dylib             0x00007ff81767502f thread_start + 15\n"
     ]
    }
   ],
   "source": [
    "from selenium.webdriver.common.by import By\n",
    "\n",
    "soup_zip = BeautifulSoup(driver.page_source, 'html.parser')\n",
    "driver.quit()\n",
    "# median price, # of home sold, median DOM, score, \n",
    "soup_price = soup_zip.select('metricSummary')[0]\n",
    "soup_sold = soup_zip.select('.MarketInsightsGraphSection:first-of-type button:nth-of-type(2)')[0]\n",
    "soup_DOM = soup_zip.select('.MarketInsightsGraphSection:first-of-type button:nth-of-type(3)')[0]\n",
    "median_price = float(soup_price.select('.dataPoints>.value')[0].text.replace('$','').replace(',',''))\n",
    "driver.find_element(By.CSS_SELECTOR,'div[data-react-server-root-id=\"19\"] .ModeToggler.graphTabs button:first-of-type').click()\n",
    "svg = driver.find_element(By.CSS_SELECTOR,'div[data-react-server-root-id=\"19\"] .lineGraph .VictoryContainer>svg')\n",
    "svg = svg.get_attribute('outerHTML')\n",
    "svg = svg.replace('svg width', 'svg xmlns=\"http://www.w3.org/2000/svg\" width')\n",
    "with open(f'image/{zipcode}_1y.svg', 'w') as f:\n",
    "    f.write(svg)\n",
    "driver.find_element(By.CSS_SELECTOR,'div[data-react-server-root-id=\"19\"] .ModeToggler.graphTabs button:nth-of-type(3)').click()\n",
    "svg3 = driver.find_element(By.CSS_SELECTOR,'div[data-react-server-root-id=\"19\"] .lineGraph .VictoryContainer>svg')\n",
    "svg3 = svg3.get_attribute('outerHTML')\n",
    "svg3 = svg3.replace('svg width', 'svg xmlns=\"http://www.w3.org/2000/svg\" width')\n",
    "with open(f'image/{zipcode}_3y.svg', 'w') as f:\n",
    "    f.write(svg3)"
   ]
  },
  {
   "cell_type": "code",
   "execution_count": 28,
   "metadata": {},
   "outputs": [
    {
     "ename": "KeyboardInterrupt",
     "evalue": "",
     "output_type": "error",
     "traceback": [
      "\u001b[0;31m---------------------------------------------------------------------------\u001b[0m",
      "\u001b[0;31mKeyboardInterrupt\u001b[0m                         Traceback (most recent call last)",
      "Cell \u001b[0;32mIn[28], line 49\u001b[0m\n\u001b[1;32m     47\u001b[0m     \u001b[39mif\u001b[39;00m \u001b[39mlen\u001b[39m(ls_err) \u001b[39m%\u001b[39m \u001b[39m5\u001b[39m \u001b[39m==\u001b[39m \u001b[39m0\u001b[39m:\n\u001b[1;32m     48\u001b[0m         \u001b[39mprint\u001b[39m(\u001b[39mf\u001b[39m\u001b[39m'\u001b[39m\u001b[39m---- There are \u001b[39m\u001b[39m{\u001b[39;00m\u001b[39mlen\u001b[39m(ls_err)\u001b[39m}\u001b[39;00m\u001b[39m errors ----\u001b[39m\u001b[39m'\u001b[39m)\n\u001b[0;32m---> 49\u001b[0m time\u001b[39m.\u001b[39;49msleep(random() \u001b[39m*\u001b[39;49m sec_sleep)\n",
      "\u001b[0;31mKeyboardInterrupt\u001b[0m: "
     ]
    }
   ],
   "source": [
    "ls_zipdata = []\n",
    "ls_err = []\n",
    "sec_sleep = 20\n",
    "for i, row in df_zip_hou.iterrows():\n",
    "    # initial zip code \n",
    "    zipcode = row['zipcode']\n",
    "    url_redfin = f'https://www.redfin.com/zipcode/{zipcode}/housing-market'\n",
    "    try:\n",
    "        # load web\n",
    "        chrome_options = Options()\n",
    "        chrome_options.add_argument(\"--window-size=1920,1080\")\n",
    "        chrome_options.add_argument(\"--silent\") # open without popup\n",
    "        driver = webdriver.Chrome()\n",
    "        driver.get(url_redfin)\n",
    "        # get price trend svg\n",
    "        driver.find_element_by_css_selector('div[data-react-server-root-id=\"19\"] .ModeToggler.graphTabs button:first-of-type').click()\n",
    "        svg = driver.find_element_by_css_selector('div[data-react-server-root-id=\"19\"] .lineGraph .VictoryContainer>svg')\n",
    "        svg = svg.get_attribute('outerHTML')\n",
    "        svg = svg.replace('svg width', 'svg xmlns=\"http://www.w3.org/2000/svg\" width')\n",
    "        with open(f'image/{zipcode}_1y.svg', 'w') as f:\n",
    "            f.write(svg)\n",
    "        driver.find_element_by_css_selector('div[data-react-server-root-id=\"19\"] .ModeToggler.graphTabs button:nth-of-type(3)').click()\n",
    "        svg3 = driver.find_element_by_css_selector('div[data-react-server-root-id=\"19\"] .lineGraph .VictoryContainer>svg')\n",
    "        svg3 = svg3.get_attribute('outerHTML')\n",
    "        svg3 = svg3.replace('svg width', 'svg xmlns=\"http://www.w3.org/2000/svg\" width')\n",
    "        with open(f'image/{zipcode}_3y.svg', 'w') as f:\n",
    "            f.write(svg3)\n",
    "\n",
    "        # load market insight # soup_zip = mywebdriver.get_soup(url_redfin, driver_type='selenium')\n",
    "        soup_zip = BeautifulSoup(driver.page_source, 'html.parser')\n",
    "        driver.quit()\n",
    "        # median price, # of home sold, median DOM, score, \n",
    "        soup_price = soup_zip.select('.MarketInsightsGraphSection:first-of-type button:first-of-type')[0]\n",
    "        soup_sold = soup_zip.select('.MarketInsightsGraphSection:first-of-type button:nth-of-type(2)')[0]\n",
    "        soup_DOM = soup_zip.select('.MarketInsightsGraphSection:first-of-type button:nth-of-type(3)')[0]\n",
    "        median_price = float(soup_price.select('.dataPoints>.value')[0].text.replace('$','').replace(',',''))\n",
    "        median_price_yoy = float(soup_price.select('.dataPoints>.yoyChange')[0].text.replace('+','').replace('%','').replace(' year-over-year', ''))\n",
    "        n_sold = float(soup_sold.select('.dataPoints>.value')[0].text.replace('$','').replace(',',''))\n",
    "        n_sold_yoy = float(soup_sold.select('.dataPoints>.yoyChange')[0].text.replace('+','').replace('%','').replace(' year-over-year', ''))\n",
    "        DOM = float(soup_DOM.select('.dataPoints>.value')[0].text.replace('$','').replace(',',''))\n",
    "        DOM_yoy = float(soup_DOM.select('.dataPoints>.yoyChange')[0].text.replace('+','').replace('%','').replace(' year-over-year', ''))\n",
    "        score = int(soup_zip.select('.scoreTM>.score')[0].text)\n",
    "        dic_zipdata = {'zipcode': zipcode, 'url': url_redfin, 'median_price': median_price, 'median_price_yoy': median_price_yoy, 'n_sold': n_sold, 'n_sold_yoy': n_sold_yoy, 'DOM': DOM, 'DOM_yoy': DOM_yoy, 'redfin_score': score}\n",
    "        ls_zipdata.append(dic_zipdata)\n",
    "    except:\n",
    "        ls_err.append({'zipcode': zipcode, 'url': url_redfin, 'err': traceback.format_exc()})\n",
    "        if len(ls_err) % 5 == 0:\n",
    "            print(f'---- There are {len(ls_err)} errors ----')\n",
    "    time.sleep(random() * sec_sleep)"
   ]
  },
  {
   "cell_type": "code",
   "execution_count": 29,
   "metadata": {},
   "outputs": [
    {
     "data": {
      "text/html": [
       "<div>\n",
       "<style scoped>\n",
       "    .dataframe tbody tr th:only-of-type {\n",
       "        vertical-align: middle;\n",
       "    }\n",
       "\n",
       "    .dataframe tbody tr th {\n",
       "        vertical-align: top;\n",
       "    }\n",
       "\n",
       "    .dataframe thead th {\n",
       "        text-align: right;\n",
       "    }\n",
       "</style>\n",
       "<table border=\"1\" class=\"dataframe\">\n",
       "  <thead>\n",
       "    <tr style=\"text-align: right;\">\n",
       "      <th></th>\n",
       "      <th>zipcode</th>\n",
       "      <th>url</th>\n",
       "      <th>err</th>\n",
       "    </tr>\n",
       "  </thead>\n",
       "  <tbody>\n",
       "    <tr>\n",
       "      <th>0</th>\n",
       "      <td>77002</td>\n",
       "      <td>https://www.redfin.com/zipcode/77002/housing-m...</td>\n",
       "      <td>Traceback (most recent call last):\\n  File \"/v...</td>\n",
       "    </tr>\n",
       "    <tr>\n",
       "      <th>1</th>\n",
       "      <td>77003</td>\n",
       "      <td>https://www.redfin.com/zipcode/77003/housing-m...</td>\n",
       "      <td>Traceback (most recent call last):\\n  File \"/v...</td>\n",
       "    </tr>\n",
       "    <tr>\n",
       "      <th>2</th>\n",
       "      <td>77004</td>\n",
       "      <td>https://www.redfin.com/zipcode/77004/housing-m...</td>\n",
       "      <td>Traceback (most recent call last):\\n  File \"/v...</td>\n",
       "    </tr>\n",
       "    <tr>\n",
       "      <th>3</th>\n",
       "      <td>77005</td>\n",
       "      <td>https://www.redfin.com/zipcode/77005/housing-m...</td>\n",
       "      <td>Traceback (most recent call last):\\n  File \"/v...</td>\n",
       "    </tr>\n",
       "  </tbody>\n",
       "</table>\n",
       "</div>"
      ],
      "text/plain": [
       "  zipcode                                                url  \\\n",
       "0   77002  https://www.redfin.com/zipcode/77002/housing-m...   \n",
       "1   77003  https://www.redfin.com/zipcode/77003/housing-m...   \n",
       "2   77004  https://www.redfin.com/zipcode/77004/housing-m...   \n",
       "3   77005  https://www.redfin.com/zipcode/77005/housing-m...   \n",
       "\n",
       "                                                 err  \n",
       "0  Traceback (most recent call last):\\n  File \"/v...  \n",
       "1  Traceback (most recent call last):\\n  File \"/v...  \n",
       "2  Traceback (most recent call last):\\n  File \"/v...  \n",
       "3  Traceback (most recent call last):\\n  File \"/v...  "
      ]
     },
     "execution_count": 29,
     "metadata": {},
     "output_type": "execute_result"
    }
   ],
   "source": [
    "# analyze error\n",
    "df_err = pd.DataFrame(ls_err)\n",
    "df_err = df_err[['zipcode', 'url', 'err']]\n",
    "df_err.to_csv('./data/zipcode_data_err.csv', index=False)\n",
    "df_err.head()"
   ]
  },
  {
   "cell_type": "code",
   "execution_count": null,
   "metadata": {},
   "outputs": [
    {
     "data": {
      "text/plain": [
       "21"
      ]
     },
     "execution_count": 185,
     "metadata": {},
     "output_type": "execute_result"
    }
   ],
   "source": [
    "# check error\n",
    "len(ls_err)"
   ]
  },
  {
   "cell_type": "code",
   "execution_count": null,
   "metadata": {},
   "outputs": [
    {
     "data": {
      "text/plain": [
       "(154, 9)"
      ]
     },
     "execution_count": 190,
     "metadata": {},
     "output_type": "execute_result"
    }
   ],
   "source": [
    "# form dataframe\n",
    "df_zipdata = pd.DataFrame(ls_zipdata)\n",
    "df_zipdata = df_zipdata[['zipcode', 'url', 'median_price', 'median_price_yoy', 'n_sold', 'n_sold_yoy', 'DOM', 'DOM_yoy', 'redfin_score']]\n",
    "df_zipdata['median_price_yoy'] = df_zipdata['median_price_yoy']/100\n",
    "df_zipdata['n_sold_yoy'] = df_zipdata['n_sold_yoy']/100\n",
    "df_zipdata['DOM_yoy'] = df_zipdata['DOM_yoy']/100\n",
    "df_zipdata.shape"
   ]
  },
  {
   "cell_type": "code",
   "execution_count": null,
   "metadata": {},
   "outputs": [],
   "source": [
    "# get image path\n",
    "def get_image_path(x):\n",
    "    return f'./image/{x}_1y.svg'\n",
    "def get_image_path3(x):\n",
    "    return f'./image/{x}_3y.svg'\n",
    "df_zipdata['svg1'] = df_zipdata.zipcode.map(get_image_path)\n",
    "df_zipdata['svg3'] = df_zipdata.zipcode.map(get_image_path3)"
   ]
  },
  {
   "cell_type": "code",
   "execution_count": null,
   "metadata": {},
   "outputs": [],
   "source": [
    "# save csv\n",
    "df_zipdata.to_csv('./data/zipcode_data.csv', index=False)"
   ]
  }
 ],
 "metadata": {
  "kernelspec": {
   "display_name": "Python 3",
   "language": "python",
   "name": "python3"
  },
  "language_info": {
   "codemirror_mode": {
    "name": "ipython",
    "version": 3
   },
   "file_extension": ".py",
   "mimetype": "text/x-python",
   "name": "python",
   "nbconvert_exporter": "python",
   "pygments_lexer": "ipython3",
   "version": "3.10.8"
  },
  "metadata": {
   "interpreter": {
    "hash": "aee8b7b246df8f9039afb4144a1f6fd8d2ca17a180786b69acc140d282b71a49"
   }
  },
  "orig_nbformat": 3,
  "vscode": {
   "interpreter": {
    "hash": "b0fa6594d8f4cbf19f97940f81e996739fb7646882a419484c72d19e05852a7e"
   }
  }
 },
 "nbformat": 4,
 "nbformat_minor": 4
}
