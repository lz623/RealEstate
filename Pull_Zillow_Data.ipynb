{
 "cells": [
  {
   "cell_type": "markdown",
   "metadata": {},
   "source": [
    "## Houston zip code\n",
    "Rice Military 77007\n",
    "Katy 77494\n",
    "Methods\n",
    "- Divide houston metropolitan area into 2 counties: Harris county and Fort Bend county"
   ]
  },
  {
   "cell_type": "code",
   "execution_count": 5,
   "metadata": {},
   "outputs": [
    {
     "ename": "ModuleNotFoundError",
     "evalue": "No module named 'webdriver'",
     "output_type": "error",
     "traceback": [
      "\u001b[0;31m---------------------------------------------------------------------------\u001b[0m",
      "\u001b[0;31mModuleNotFoundError\u001b[0m                       Traceback (most recent call last)",
      "\u001b[0;32m/var/folders/ds/f3qghlvs6z51c03c15bdzhs80000gn/T/ipykernel_91247/2876737143.py\u001b[0m in \u001b[0;36m<module>\u001b[0;34m\u001b[0m\n\u001b[1;32m      3\u001b[0m \u001b[0;32mfrom\u001b[0m \u001b[0mbs4\u001b[0m \u001b[0;32mimport\u001b[0m \u001b[0mBeautifulSoup\u001b[0m\u001b[0;34m\u001b[0m\u001b[0;34m\u001b[0m\u001b[0m\n\u001b[1;32m      4\u001b[0m \u001b[0;32mimport\u001b[0m \u001b[0mtime\u001b[0m\u001b[0;34m\u001b[0m\u001b[0;34m\u001b[0m\u001b[0m\n\u001b[0;32m----> 5\u001b[0;31m \u001b[0;32mimport\u001b[0m \u001b[0mwebdriver\u001b[0m\u001b[0;34m\u001b[0m\u001b[0;34m\u001b[0m\u001b[0m\n\u001b[0m\u001b[1;32m      6\u001b[0m \u001b[0;32mfrom\u001b[0m \u001b[0mrandom\u001b[0m \u001b[0;32mimport\u001b[0m \u001b[0mseed\u001b[0m\u001b[0;34m,\u001b[0m \u001b[0mrandint\u001b[0m\u001b[0;34m,\u001b[0m \u001b[0mrandom\u001b[0m\u001b[0;34m\u001b[0m\u001b[0;34m\u001b[0m\u001b[0m\n",
      "\u001b[0;31mModuleNotFoundError\u001b[0m: No module named 'webdriver'"
     ]
    }
   ],
   "source": [
    "import numpy as np\n",
    "import pandas as pd\n",
    "from bs4 import BeautifulSoup\n",
    "import time\n",
    "import webdriver\n",
    "from random import seed, randint, random"
   ]
  },
  {
   "cell_type": "code",
   "execution_count": 10,
   "metadata": {},
   "outputs": [],
   "source": [
    "def dstr_2_int(dstr):\n",
    "    return int(dstr[1:].replace(',',''))\n",
    "def get_p_z_zr_mc(soup):\n",
    "    soup_p = soup.select('div.ds-chip>div.ds-home-details-chip>div.ds-summary-row-container>div.ds-summary-row-content>div.ds-summary-row>h4>span>span')\n",
    "    if soup_p:\n",
    "        if len(soup_p) > 1: # \"From 399,000\" From is in the first <span>\n",
    "            Price = dstr_2_int(soup_p[-1].text)\n",
    "        else:\n",
    "            Price = dstr_2_int(soup_p[0].text)\n",
    "    else:\n",
    "        Price = 0\n",
    "\n",
    "    soup_zm = soup.select('div#ds-home-values div.ds-expandable-card-section-default-padding>div>div>div>div>span')\n",
    "    if soup_zm:\n",
    "        Zestmate = dstr_2_int(soup_zm[0].text)\n",
    "    else:\n",
    "        Zestmate = 0\n",
    "    \n",
    "    soup_zmr = soup.select('div#ds-rental-home-values span.Text-c11n-8-18-0__aiai24-0.bloUvX')\n",
    "    if soup_zmr:\n",
    "        Zestmate_Rent = dstr_2_int(soup_zmr[0].text.replace('/mo', ''))\n",
    "    else:\n",
    "        Zestmate_Rent = 0\n",
    "   \n",
    "    soup_mc = soup.select('li.ds-data-view-item>div>div.ds-expandable-card-section-default-padding>div.ds-expandable-card>div>h5')\n",
    "    #('h5.Text-c11n-8-18-0__aiai24-0.StyledHeading-c11n-8-18-0__ktujwe-0.LJxVR.sc-qQmou.bViFbQ')\n",
    "    if soup_mc:\n",
    "        Monthly_Cost = dstr_2_int(soup_mc[0].text)\n",
    "    else:\n",
    "        Monthly_Cost = 0\n",
    "    return Price, Zestmate, Zestmate_Rent, Monthly_Cost\n",
    "def get_school_info(soup):\n",
    "    soup_sh = soup.select('span#skip-link-schools+div li>div:first-of-type>div>span:first-of-type')\n",
    "    if soup_sh:\n",
    "        scores = map(lambda x: x.text, soup_sh)\n",
    "        scores_sum = 0\n",
    "        try:\n",
    "            scores_int = map(lambda x: int(x.text), soup_sh)\n",
    "            scores_sum = sum(scores_int)\n",
    "        except:\n",
    "            pass\n",
    "        return ','.join(scores), scores_sum\n",
    "    else:\n",
    "        return '', 0\n",
    "\n",
    "def extract_zillow_info(df_out, path_out, n_start=0, driver_type='selenium', sec_sleep=3):\n",
    "    cols = ['zestmate', 'zestmate_rent', 'monthly_cost', 'school', 'school_sum', 'monthly_cash_flow', 'yearly_return']\n",
    "    for c in cols:\n",
    "        df_out[c] = np.nan\n",
    "    for i, row in df_out[n_start:].iterrows():\n",
    "        url = row['url']\n",
    "        # print(url)\n",
    "        soup = webdriver.get_soup(url, driver_type=driver_type)\n",
    "        Price, Zestmate, Zestmate_Rent, Monthly_Cost = get_p_z_zr_mc(soup)\n",
    "        sch_scores, sch_scores_sum = get_school_info(soup)\n",
    "        # print(Price, Zestmate, Zestmate_Rent, Monthly_Cost)\n",
    "        # print(sch_scores)\n",
    "        df_out.loc[i, ['zestmate', 'zestmate_rent', 'monthly_cost', 'school', 'school_sum']] = Zestmate, Zestmate_Rent, Monthly_Cost, sch_scores, sch_scores_sum\n",
    "        if Zestmate_Rent != 0 and Monthly_Cost != 0:\n",
    "            df_out.loc[i, 'monthly_cash_flow'] = Zestmate_Rent - Monthly_Cost\n",
    "            # the yearly return assumes 20% down payment and 2% overall closing fee\n",
    "            df_out.loc[i, 'yearly_return'] = round((Zestmate_Rent - Monthly_Cost) * 12 / (Price * 0.22), 3)\n",
    "        if i % 50 == 0:\n",
    "            df_out.to_csv(path_out)\n",
    "            print(f'{i} homes have been scaped ....')\n",
    "        time.sleep(random() * sec_sleep  \n",
    "        df_out.to_csv(path_out)"
   ]
  },
  {
   "cell_type": "markdown",
   "metadata": {},
   "source": [
    "### Get all Fort Bend info"
   ]
  },
  {
   "cell_type": "code",
   "execution_count": 1,
   "metadata": {},
   "outputs": [],
   "source": [
    "# df = pd.read_csv(r'data/dataset_FortBend_2021-01-10.csv')\n",
    "# cols = [c for c in df.columns if 'photo' not in c]\n",
    "# df_out = df[cols]\n",
    "from import_data import load_json_homes\n",
    "folder = r'/Users/yuchenzhang/Documents/Reps/actor-zillow-api-scraper/apify_storage/datasets/default'\n",
    "df_out = load_json_homes(folder)"
   ]
  },
  {
   "cell_type": "code",
   "execution_count": 6,
   "metadata": {},
   "outputs": [],
   "source": [
    "\n",
    "df_out['zestmate'], df_out['zestmate_rent'], df_out['monthly_cost'] = [np.nan, np.nan, np.nan]\n",
    "df_out['monthly_cash_flow'] = np.nan\n",
    "df_out['yearly_return'] = np.nan\n",
    "df_out['school'] = np.nan"
   ]
  },
  {
   "cell_type": "code",
   "execution_count": 7,
   "metadata": {},
   "outputs": [],
   "source": [
    "# filter out land with no bedroom or bathroom\n",
    "df_out = df_out[(df_out.bedrooms) > 0 & (df_out.bathrooms > 0)].reset_index()"
   ]
  }
 ],
 "metadata": {
  "kernelspec": {
   "display_name": "Python 3.8.5 64-bit",
   "name": "python385jvsc74a57bd0aee8b7b246df8f9039afb4144a1f6fd8d2ca17a180786b69acc140d282b71a49"
  },
  "language_info": {
   "codemirror_mode": {
    "name": "ipython",
    "version": 3
   },
   "file_extension": ".py",
   "mimetype": "text/x-python",
   "name": "python",
   "nbconvert_exporter": "python",
   "pygments_lexer": "ipython3",
   "version": "3.8.5"
  },
  "metadata": {
   "interpreter": {
    "hash": "aee8b7b246df8f9039afb4144a1f6fd8d2ca17a180786b69acc140d282b71a49"
   }
  },
  "orig_nbformat": 3
 },
 "nbformat": 4,
 "nbformat_minor": 4
}